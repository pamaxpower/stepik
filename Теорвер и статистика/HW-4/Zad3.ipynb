{
 "cells": [
  {
   "cell_type": "markdown",
   "id": "bc5ca477",
   "metadata": {},
   "source": [
    "**Задача 3. Непрерывная случайная величина X распределена нормально и задана плотностью распределения\\\n",
    "f(x) = (1 / (4 * sqrt(2pi))) * exp((-(x+2)^2) / 32)**\\\n",
    "Найдите:\n",
    "- а) M(X)\n",
    "- б) D(X)\n",
    "- в) std(X) (среднее квадратичное отклонение)"
   ]
  },
  {
   "cell_type": "markdown",
   "id": "8fc52b3d",
   "metadata": {},
   "source": [
    "**Решение:**\\\n",
    "По формуле видно что **M(X)** принимает значение **-2**\\\n",
    "В знаменателе показателя степени экспоненты **2σ²=32**, отсюда **σ²=D(X)=16**\\\n",
    "Тогда **std(X) = √σ² = √16 = 4**"
   ]
  },
  {
   "cell_type": "markdown",
   "id": "d1157445",
   "metadata": {},
   "source": [
    "Ответ:\\\n",
    "Математическое ожидание равно -2, Дисперсия: 16, среднее квадратичное отклонение: 4."
   ]
  },
  {
   "cell_type": "markdown",
   "id": "2b1f9ea1",
   "metadata": {},
   "source": [
    " "
   ]
  }
 ],
 "metadata": {
  "kernelspec": {
   "display_name": "Python 3 (ipykernel)",
   "language": "python",
   "name": "python3"
  },
  "language_info": {
   "codemirror_mode": {
    "name": "ipython",
    "version": 3
   },
   "file_extension": ".py",
   "mimetype": "text/x-python",
   "name": "python",
   "nbconvert_exporter": "python",
   "pygments_lexer": "ipython3",
   "version": "3.9.13"
  }
 },
 "nbformat": 4,
 "nbformat_minor": 5
}
