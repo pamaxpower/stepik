{
 "cells": [
  {
   "cell_type": "markdown",
   "id": "6eaef4bf",
   "metadata": {},
   "source": [
    "**Задача 1. Случайная непрерывная величина A имеет равномерное распределение на промежутке (200, 800].\n",
    "Найдите ее среднее значение и дисперсию.**\n",
    "                                                                                        "
   ]
  },
  {
   "cell_type": "markdown",
   "id": "91224961",
   "metadata": {},
   "source": [
    "**Решение:**\\\n",
    "Для равномерного распределения маметатическое ожидание рассчитывается по формуле:\\\n",
    "    **M(A) = (a+b) / 2**, где **a** и **b** - концы отрезка.\\\n",
    "Дисперсия рассчитывается по формуле:\\\n",
    "    **D(A) = (b-a)<sup>2</sup> / 12**"
   ]
  },
  {
   "cell_type": "code",
   "execution_count": 5,
   "id": "c3b6b83f",
   "metadata": {},
   "outputs": [
    {
     "name": "stdout",
     "output_type": "stream",
     "text": [
      "Математическое ожидание равно: 500.0\n",
      "Дисперсия равна: 30000.0\n"
     ]
    }
   ],
   "source": [
    "from math import pow\n",
    "a = 200\n",
    "b = 800\n",
    "mA = (a+b)/2\n",
    "dA = pow(b-a,2)/12\n",
    "print(f'Математическое ожидание равно: {mA}')\n",
    "print(f'Дисперсия равна: {dA}')"
   ]
  },
  {
   "cell_type": "markdown",
   "id": "45f664ae",
   "metadata": {},
   "source": [
    "Ответ:\\\n",
    "Для равномерного распределения случайной величины А на отрезке(200,800] математическое ожидание равно 500, а дисперсия 30000."
   ]
  },
  {
   "cell_type": "markdown",
   "id": "c6b420fd",
   "metadata": {},
   "source": [
    " "
   ]
  }
 ],
 "metadata": {
  "kernelspec": {
   "display_name": "Python 3 (ipykernel)",
   "language": "python",
   "name": "python3"
  },
  "language_info": {
   "codemirror_mode": {
    "name": "ipython",
    "version": 3
   },
   "file_extension": ".py",
   "mimetype": "text/x-python",
   "name": "python",
   "nbconvert_exporter": "python",
   "pygments_lexer": "ipython3",
   "version": "3.9.13"
  }
 },
 "nbformat": 4,
 "nbformat_minor": 5
}
