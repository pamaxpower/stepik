{
 "cells": [
  {
   "cell_type": "markdown",
   "id": "91d7f3cc",
   "metadata": {},
   "source": [
    "**Задача 4. Рост взрослого населения города X имеет нормальное распределение.\n",
    "Причем, средний рост равен 174 см, а среднее квадратичное отклонение равно 8 см.\n",
    "Какова вероятность того, что случайным образом выбранный взрослый человек имеет рост:**\n",
    "\n",
    "а) больше 182 см\n",
    "\n",
    "б) больше 190 см\n",
    "\n",
    "в) от 166 см до 190 см\n",
    "\n",
    "г) от 166 см до 182 см\n",
    "\n",
    "д) от 158 см до 190 см\n",
    "\n",
    "е) не выше 150 см или не ниже 190 см\n",
    "\n",
    "ё) не выше 150 см или не ниже 198 см\n",
    "\n",
    "ж) ниже 166 см."
   ]
  },
  {
   "cell_type": "markdown",
   "id": "9ef4715f",
   "metadata": {},
   "source": [
    "**Решение:**\\\n",
    "    Для решения всех примеров будем использовать формулу **Z = (x - m(X)) / σ**, где\\\n",
    "    X - случайная величина, по которой будем искать значение\\\n",
    "    M(X) - математическое ожидание. **M(X) = 174**\\\n",
    "    σ - среднее квадратичное. **σ = 8**\n",
    " "
   ]
  },
  {
   "cell_type": "code",
   "execution_count": 2,
   "id": "13d48a91",
   "metadata": {},
   "outputs": [],
   "source": [
    "def value_Z(x):\n",
    "    return (x-174)/8"
   ]
  },
  {
   "cell_type": "markdown",
   "id": "26129b90",
   "metadata": {},
   "source": [
    "а) больше 182 см\\"
   ]
  },
  {
   "cell_type": "code",
   "execution_count": 5,
   "id": "c35dca86",
   "metadata": {},
   "outputs": [
    {
     "name": "stdout",
     "output_type": "stream",
     "text": [
      "0.8413447460685428\n"
     ]
    }
   ],
   "source": [
    "from statistics import NormalDist as ND\n",
    "print(ND().cdf(value_Z(182)))"
   ]
  },
  {
   "cell_type": "code",
   "execution_count": null,
   "id": "d8635cf9",
   "metadata": {},
   "outputs": [],
   "source": []
  }
 ],
 "metadata": {
  "kernelspec": {
   "display_name": "Python 3 (ipykernel)",
   "language": "python",
   "name": "python3"
  },
  "language_info": {
   "codemirror_mode": {
    "name": "ipython",
    "version": 3
   },
   "file_extension": ".py",
   "mimetype": "text/x-python",
   "name": "python",
   "nbconvert_exporter": "python",
   "pygments_lexer": "ipython3",
   "version": "3.9.13"
  }
 },
 "nbformat": 4,
 "nbformat_minor": 5
}
