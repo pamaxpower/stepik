{
 "cells": [
  {
   "cell_type": "markdown",
   "id": "231cba37",
   "metadata": {},
   "source": [
    "**Задача 2. О случайной непрерывной равномерно распределенной величине B известно, что ее дисперсия равна 0.2. Можно ли найти правую границу величины B и ее среднее значение зная, что левая граница равна 0.5? Если да, найдите ее.**"
   ]
  },
  {
   "cell_type": "markdown",
   "id": "6d459c7f",
   "metadata": {},
   "source": [
    " "
   ]
  },
  {
   "cell_type": "markdown",
   "id": "4df2c957",
   "metadata": {},
   "source": [
    "**Решение:**\\\n",
    "Зная дисперсию и одну из границ случайной величины, можно найти вторую границу и мат.ожидание.\n",
    "По условию дисперсия **D(B) = 0.2**, а левая граница **a = 0.5**, тогда из формулы дисперсии для равномерной случайной величины **D(B) = (b-a)<sup>2</sup> / 12**, можно вывести значение **b**\\\n",
    "**b = √(D(B)*12) + a**"
   ]
  },
  {
   "cell_type": "code",
   "execution_count": 25,
   "id": "c128dd7a",
   "metadata": {},
   "outputs": [
    {
     "name": "stdout",
     "output_type": "stream",
     "text": [
      "Правая граница равна:  2.05\n"
     ]
    }
   ],
   "source": [
    "from math import sqrt\n",
    "a = 0.5\n",
    "dB = 0.2\n",
    "b = sqrt(dB*12) + a\n",
    "print(f'Правая граница равна: {b: .2f}')"
   ]
  },
  {
   "cell_type": "markdown",
   "id": "cc10bd25",
   "metadata": {},
   "source": [
    "Теперь можно найти мат.ожидание:\\\n",
    "**M(B) = (a+b) / 2**"
   ]
  },
  {
   "cell_type": "code",
   "execution_count": 26,
   "id": "b88749ae",
   "metadata": {},
   "outputs": [
    {
     "name": "stdout",
     "output_type": "stream",
     "text": [
      "Математическое ожидание равно:  1.27\n"
     ]
    }
   ],
   "source": [
    "mB = (a+b) / 2\n",
    "print(f'Математическое ожидание равно: {mB: .2f}')"
   ]
  },
  {
   "cell_type": "markdown",
   "id": "9906a685",
   "metadata": {},
   "source": [
    "Ответ:\\\n",
    "Правая граница равна 2.05, математическое ожидание 1.27"
   ]
  },
  {
   "cell_type": "markdown",
   "id": "d662caee",
   "metadata": {},
   "source": [
    " "
   ]
  }
 ],
 "metadata": {
  "kernelspec": {
   "display_name": "Python 3 (ipykernel)",
   "language": "python",
   "name": "python3"
  },
  "language_info": {
   "codemirror_mode": {
    "name": "ipython",
    "version": 3
   },
   "file_extension": ".py",
   "mimetype": "text/x-python",
   "name": "python",
   "nbconvert_exporter": "python",
   "pygments_lexer": "ipython3",
   "version": "3.9.13"
  }
 },
 "nbformat": 4,
 "nbformat_minor": 5
}
