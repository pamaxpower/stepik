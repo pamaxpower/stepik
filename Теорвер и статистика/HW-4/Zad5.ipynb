{
 "cells": [
  {
   "cell_type": "markdown",
   "id": "756b4d5d",
   "metadata": {},
   "source": [
    "**Задача 5. На сколько сигм (средних квадратичных отклонений) отклоняется рост человека, равный 190 см, от математического ожидания роста в популяции, в которой M(X) = 178 см и D(X) = 25 кв.см?**"
   ]
  },
  {
   "cell_type": "markdown",
   "id": "c0b64ba4",
   "metadata": {},
   "source": [
    "**Решение:**\\\n",
    "Чтобы найти ответ на этот вопрос воспользуемся формулой: **Z = (X-M(X)) / √D(X)**\\\n",
    "Число **Z** показывает во сколько сигмах лежит то или иное значение от среднего арифметического"
   ]
  },
  {
   "cell_type": "code",
   "execution_count": 1,
   "id": "7a9a592d",
   "metadata": {},
   "outputs": [
    {
     "name": "stdout",
     "output_type": "stream",
     "text": [
      "Число 190 лежит в 2.4 сигмах от математического ожидания 178\n"
     ]
    }
   ],
   "source": [
    "from math import sqrt\n",
    "X = 190\n",
    "mX = 178\n",
    "dX = 25\n",
    "Z = (X-mX) / sqrt(dX)\n",
    "print(f'Число {X} лежит в {Z} сигмах от математического ожидания {mX}')"
   ]
  },
  {
   "cell_type": "markdown",
   "id": "3f68c3c6",
   "metadata": {},
   "source": [
    "Ответ:\\\n",
    "2,4 сигмы"
   ]
  },
  {
   "cell_type": "code",
   "execution_count": null,
   "id": "6ade3588",
   "metadata": {},
   "outputs": [],
   "source": []
  }
 ],
 "metadata": {
  "kernelspec": {
   "display_name": "Python 3 (ipykernel)",
   "language": "python",
   "name": "python3"
  },
  "language_info": {
   "codemirror_mode": {
    "name": "ipython",
    "version": 3
   },
   "file_extension": ".py",
   "mimetype": "text/x-python",
   "name": "python",
   "nbconvert_exporter": "python",
   "pygments_lexer": "ipython3",
   "version": "3.9.13"
  }
 },
 "nbformat": 4,
 "nbformat_minor": 5
}
