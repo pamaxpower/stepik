{
 "cells": [
  {
   "cell_type": "markdown",
   "id": "91d7f3cc",
   "metadata": {},
   "source": [
    "**Задача 4. Рост взрослого населения города X имеет нормальное распределение.\n",
    "Причем, средний рост равен 174 см, а среднее квадратичное отклонение равно 8 см.\n",
    "Какова вероятность того, что случайным образом выбранный взрослый человек имеет рост:**\n",
    "\n",
    "a) больше 182 см\n",
    "\n",
    "b) больше 190 см\n",
    "\n",
    "c) от 166 см до 190 см\n",
    "\n",
    "d) от 166 см до 182 см\n",
    "\n",
    "e) от 158 см до 190 см\n",
    "\n",
    "f) не выше 150 см или не ниже 190 см\n",
    "\n",
    "g) не выше 150 см или не ниже 198 см\n",
    "\n",
    "h) ниже 166 см."
   ]
  },
  {
   "cell_type": "markdown",
   "id": "9ef4715f",
   "metadata": {},
   "source": [
    "**Решение:**\\\n",
    "    Для решения всех примеров будем использовать формулу **Z = (x - m(X)) / σ**, где\\\n",
    "    X - случайная величина, по которой будем искать значение\\\n",
    "    M(X) - математическое ожидание. **M(X) = 174**\\\n",
    "    σ - среднее квадратичное. **σ = 8**\n",
    " "
   ]
  },
  {
   "cell_type": "code",
   "execution_count": 1,
   "id": "13d48a91",
   "metadata": {},
   "outputs": [],
   "source": [
    "def value_Z(x):\n",
    "    return (x-174)/8"
   ]
  },
  {
   "cell_type": "markdown",
   "id": "97d3e25f",
   "metadata": {},
   "source": [
    "Для расчете значений вероятности можно воспользоваться он-лайн калькулятором: https://gallery.shinyapps.io/dist_calc/ ,\\\n",
    "либо таблицами, либо методом sdf() объекта NormalDist в модуле statistics"
   ]
  },
  {
   "cell_type": "markdown",
   "id": "55f0a726",
   "metadata": {},
   "source": [
    "a) **больше 182 см**\\\n",
    "Метод cdf возвращает вероятность промежутка до 182, а нам надо выше 182. Поэтому итоговый результат надо вычесть из 1"
   ]
  },
  {
   "cell_type": "code",
   "execution_count": 2,
   "id": "c35dca86",
   "metadata": {},
   "outputs": [
    {
     "name": "stdout",
     "output_type": "stream",
     "text": [
      "P(X>=182) =  0.1587\n"
     ]
    }
   ],
   "source": [
    "from statistics import NormalDist as ND\n",
    "pA = 1 - ND().cdf(value_Z(182))\n",
    "print(f'P(X>=182) = {pA: .4f}')"
   ]
  },
  {
   "cell_type": "markdown",
   "id": "48e7b56e",
   "metadata": {},
   "source": [
    " "
   ]
  },
  {
   "cell_type": "markdown",
   "id": "ec58a41c",
   "metadata": {},
   "source": [
    "b) **больше 190см**"
   ]
  },
  {
   "cell_type": "code",
   "execution_count": 3,
   "id": "74637ca4",
   "metadata": {},
   "outputs": [
    {
     "name": "stdout",
     "output_type": "stream",
     "text": [
      "P(X>=190) =  0.0228\n"
     ]
    }
   ],
   "source": [
    "pB = 1 - ND().cdf(value_Z(190))\n",
    "print(f'P(X>=190) = {pB: .4f}')"
   ]
  },
  {
   "cell_type": "markdown",
   "id": "f5a05b15",
   "metadata": {},
   "source": [
    " "
   ]
  },
  {
   "cell_type": "markdown",
   "id": "3e9504f4",
   "metadata": {},
   "source": [
    "c) **от 166 до 190**\\\n",
    "Найдем сначала значение до 190, а потом вычтем из него значение до 166"
   ]
  },
  {
   "cell_type": "code",
   "execution_count": 4,
   "id": "96ebb095",
   "metadata": {},
   "outputs": [
    {
     "name": "stdout",
     "output_type": "stream",
     "text": [
      "P(166<=X<=190) =  0.8186\n"
     ]
    }
   ],
   "source": [
    "pC1 = ND().cdf(value_Z(190))\n",
    "pC2 = ND().cdf(value_Z(166))\n",
    "print(f'P(166<=X<=190) = {pC1-pC2: .4f}')"
   ]
  },
  {
   "cell_type": "markdown",
   "id": "90f54c6c",
   "metadata": {},
   "source": [
    " "
   ]
  },
  {
   "cell_type": "markdown",
   "id": "48639007",
   "metadata": {},
   "source": [
    "d) **от 166 до 182**\\\n",
    "Найдем сначала значение до 182, а потом вычтем из него значение до 166"
   ]
  },
  {
   "cell_type": "code",
   "execution_count": 5,
   "id": "02c114ae",
   "metadata": {},
   "outputs": [
    {
     "name": "stdout",
     "output_type": "stream",
     "text": [
      "P(166<=X<=182) =  0.6827\n"
     ]
    }
   ],
   "source": [
    "pD1 = ND().cdf(value_Z(182))\n",
    "pD2 = ND().cdf(value_Z(166))\n",
    "print(f'P(166<=X<=182) = {pD1-pD2: .4f}')"
   ]
  },
  {
   "cell_type": "markdown",
   "id": "130caf33",
   "metadata": {},
   "source": [
    " "
   ]
  },
  {
   "cell_type": "markdown",
   "id": "751df7db",
   "metadata": {},
   "source": [
    "e) **от 158 до 190**\\\n",
    "Сначала ищем значение до 190, а потом до 158"
   ]
  },
  {
   "cell_type": "code",
   "execution_count": 6,
   "id": "732ef8ea",
   "metadata": {},
   "outputs": [
    {
     "name": "stdout",
     "output_type": "stream",
     "text": [
      "P(158<=X<=190) =  0.9545\n"
     ]
    }
   ],
   "source": [
    "pE1 = ND().cdf(value_Z(190))\n",
    "pE2 = ND().cdf(value_Z(158))\n",
    "print(f'P(158<=X<=190) = {pE1-pE2: .4f}')"
   ]
  },
  {
   "cell_type": "markdown",
   "id": "cb1f46af",
   "metadata": {},
   "source": [
    " "
   ]
  },
  {
   "cell_type": "markdown",
   "id": "bd9fb299",
   "metadata": {},
   "source": [
    "f) **не выше 150 см или не ниже 190 см**\\\n",
    "В данном примере мы ищем вероятность ниже 150, и вероятность выше 190. А результат складываем"
   ]
  },
  {
   "cell_type": "code",
   "execution_count": 7,
   "id": "c38a8f09",
   "metadata": {},
   "outputs": [
    {
     "name": "stdout",
     "output_type": "stream",
     "text": [
      "P(X<=158 и X>=190) =  0.0241\n"
     ]
    }
   ],
   "source": [
    "pF1 = ND().cdf(value_Z(150))\n",
    "pF2 = 1 - ND().cdf(value_Z(190))\n",
    "print(f'P(X<=158 и X>=190) = {pF1+pF2: .4f}')"
   ]
  },
  {
   "cell_type": "markdown",
   "id": "29ca1500",
   "metadata": {},
   "source": [
    " "
   ]
  },
  {
   "cell_type": "markdown",
   "id": "2af4b7d4",
   "metadata": {},
   "source": [
    "g) **не выше 150 см или не ниже 198 см**\n",
    "В данном примере мы ищем вероятность ниже 150, и вероятность выше 198. А результат складываем"
   ]
  },
  {
   "cell_type": "code",
   "execution_count": 8,
   "id": "2b5e2b6e",
   "metadata": {},
   "outputs": [
    {
     "name": "stdout",
     "output_type": "stream",
     "text": [
      "P(X<=158 и X>=198) =  0.0027\n"
     ]
    }
   ],
   "source": [
    "pG1 = ND().cdf(value_Z(150))\n",
    "pG2 = 1 - ND().cdf(value_Z(198))\n",
    "print(f'P(X<=158 и X>=198) = {pG1+pG2: .4f}')"
   ]
  },
  {
   "cell_type": "markdown",
   "id": "358819d8",
   "metadata": {},
   "source": [
    " "
   ]
  },
  {
   "cell_type": "markdown",
   "id": "d655e200",
   "metadata": {},
   "source": [
    "h) **ниже 166**"
   ]
  },
  {
   "cell_type": "code",
   "execution_count": 9,
   "id": "30da8d7f",
   "metadata": {},
   "outputs": [
    {
     "name": "stdout",
     "output_type": "stream",
     "text": [
      "P(X<=166) =  0.1587\n"
     ]
    }
   ],
   "source": [
    "pH = ND().cdf(value_Z(166))\n",
    "print(f'P(X<=166) = {pH: .4f}')"
   ]
  },
  {
   "cell_type": "markdown",
   "id": "9d6ae061",
   "metadata": {},
   "source": [
    " "
   ]
  },
  {
   "cell_type": "markdown",
   "id": "118a5e8e",
   "metadata": {},
   "source": [
    "Ответ:\\\n",
    "a) 0.1587 = 15.8%\\\n",
    "b) 0.0228 = 2.3%\\\n",
    "c) 0.8186 = 81.7%\\\n",
    "d) 0.6827 = 68.3%\\\n",
    "e) 0.9545 = 95.5%\\\n",
    "f) 0.0241 = 5.4%\\\n",
    "g) 0.0027 = 0.3%\\\n",
    "h) 0.1587 = 15.9%"
   ]
  }
 ],
 "metadata": {
  "kernelspec": {
   "display_name": "Python 3 (ipykernel)",
   "language": "python",
   "name": "python3"
  },
  "language_info": {
   "codemirror_mode": {
    "name": "ipython",
    "version": 3
   },
   "file_extension": ".py",
   "mimetype": "text/x-python",
   "name": "python",
   "nbconvert_exporter": "python",
   "pygments_lexer": "ipython3",
   "version": "3.9.13"
  }
 },
 "nbformat": 4,
 "nbformat_minor": 5
}
