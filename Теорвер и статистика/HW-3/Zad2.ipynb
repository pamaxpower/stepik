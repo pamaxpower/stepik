{
 "cells": [
  {
   "cell_type": "markdown",
   "id": "2a80f1c5",
   "metadata": {},
   "source": [
    "**Задача 2. В первом ящике находится 8 мячей, из которых 5 - белые. Во втором ящике - 12 мячей, из которых 5 белых. \n",
    "Из первого ящика вытаскивают случайным образом два мяча, из второго - 4. Какова вероятность того, что 3 мяча белые?**"
   ]
  },
  {
   "cell_type": "markdown",
   "id": "8b71e020",
   "metadata": {},
   "source": [
    "**Решение:**\n",
    "3 белых мяча из двух корзин можно вытащить следующими способами:\n",
    "1) P(A<sub>1</sub>): 0 из первой, 3 из второй \\\n",
    "2) P(A<sub>2</sub>): 1 из первой, 2 из второй \\\n",
    "3) P(A<sub>3</sub>): 2 из первой, 1 из второй"
   ]
  },
  {
   "cell_type": "code",
   "execution_count": 20,
   "id": "5579230e",
   "metadata": {},
   "outputs": [],
   "source": [
    "from math import factorial\n",
    "def comb(n,k):\n",
    "    return factorial(n)/(factorial(k)*factorial(n-k))"
   ]
  },
  {
   "cell_type": "markdown",
   "id": "e87569f1",
   "metadata": {},
   "source": [
    "Рассмотрим 1 случай: \\\n",
    "Найдем вероятность вытаскивания белого мяча из первой корзины. \\\n",
    "Чтобы найти вероятность надо кол-во благоприятных исходов разделить на общее кол-во исходов. **p1 = C(0,5) * С(2,3) / C(2,8)**\\\n",
    "Вероятность достать мяч из второй корзины равна:\\\n",
    "**p2 = C(3,5) * C(1,7) / C(4,12)** \\\n",
    "Так как эти два собития совместные, то общая вероятность считается по формуле: **P(A<sub>1</sub>) = p1 * p2**"
   ]
  },
  {
   "cell_type": "code",
   "execution_count": 21,
   "id": "eac58f0c",
   "metadata": {},
   "outputs": [
    {
     "name": "stdout",
     "output_type": "stream",
     "text": [
      "Вероятность события первого способа равна:  0.0152\n"
     ]
    }
   ],
   "source": [
    "P1 = comb(5,0)*comb(3,2)/comb(8,2) * (comb(5,3)*comb(7,1)/comb(12,4))\n",
    "print(f'Вероятность события первого способа равна: {P1: .4f}')"
   ]
  },
  {
   "cell_type": "markdown",
   "id": "28826b7a",
   "metadata": {},
   "source": [
    "Рассмотрим 2 случай: \\\n",
    "**P(A<sub>2</sub>) = C(1,5) * C(1,3) / C(2,8) * (C(2,5) * C(2,7) / C(4,12))**"
   ]
  },
  {
   "cell_type": "code",
   "execution_count": 22,
   "id": "b72b2362",
   "metadata": {},
   "outputs": [
    {
     "name": "stdout",
     "output_type": "stream",
     "text": [
      "Вероятность события второго способа равна:  0.2273\n"
     ]
    }
   ],
   "source": [
    "P2 = comb(5,1)*comb(3,1)/comb(8,2) * (comb(5,2)*comb(7,2)/comb(12,4))\n",
    "print(f'Вероятность события второго способа равна: {P2: .4f}')"
   ]
  },
  {
   "cell_type": "markdown",
   "id": "44adc905",
   "metadata": {},
   "source": [
    "Рассмотрим 3 случай:\\\n",
    "**P(A<sub>3</sub>) = C(2,5) * C(0,3) / C(2,8) * (C(1,5) * C(3,7) / C(4,12))**"
   ]
  },
  {
   "cell_type": "code",
   "execution_count": 23,
   "id": "eb538f78",
   "metadata": {},
   "outputs": [
    {
     "name": "stdout",
     "output_type": "stream",
     "text": [
      "Вероятность события второго способа равна:  0.1263\n"
     ]
    }
   ],
   "source": [
    "P3 = comb(5,2)*comb(3,0)/comb(8,2) * (comb(5,1)*comb(7,3)/comb(12,4))\n",
    "print(f'Вероятность события второго способа равна: {P3: .4f}')"
   ]
  },
  {
   "cell_type": "markdown",
   "id": "1df09175",
   "metadata": {},
   "source": [
    "Так как все эти способы несовместные, т.е. не могу произойти одновременно, их вероятности будут суммироваться \\\n",
    "**P<sub>общ</sub> = P(A<sub>1</sub>+A<sub>2</sub>+A<sub>3</sub>) = P(A<sub>1</sub>) +P(A<sub>2</sub>) + P(A<sub>3</sub>)**"
   ]
  },
  {
   "cell_type": "code",
   "execution_count": 24,
   "id": "0de0c32e",
   "metadata": {},
   "outputs": [
    {
     "name": "stdout",
     "output_type": "stream",
     "text": [
      "Вероятность вытащить 3 белых мяча равна:  0.3687\n"
     ]
    }
   ],
   "source": [
    "PA = P1 + P2 + P3\n",
    "print(f'Вероятность вытащить 3 белых мяча равна: {PA: .4f}')"
   ]
  },
  {
   "cell_type": "markdown",
   "id": "b5c4c0fa",
   "metadata": {},
   "source": [
    "Ответ: \\\n",
    "    Вероятность того, что все 3 мяча будут белые равна 36,87%"
   ]
  },
  {
   "cell_type": "code",
   "execution_count": null,
   "id": "f7825b2b",
   "metadata": {},
   "outputs": [],
   "source": []
  }
 ],
 "metadata": {
  "celltoolbar": "Вложения",
  "kernelspec": {
   "display_name": "Python 3 (ipykernel)",
   "language": "python",
   "name": "python3"
  },
  "language_info": {
   "codemirror_mode": {
    "name": "ipython",
    "version": 3
   },
   "file_extension": ".py",
   "mimetype": "text/x-python",
   "name": "python",
   "nbconvert_exporter": "python",
   "pygments_lexer": "ipython3",
   "version": "3.9.13"
  },
  "widgets": {
   "application/vnd.jupyter.widget-state+json": {
    "state": {},
    "version_major": 2,
    "version_minor": 0
   }
  }
 },
 "nbformat": 4,
 "nbformat_minor": 5
}
