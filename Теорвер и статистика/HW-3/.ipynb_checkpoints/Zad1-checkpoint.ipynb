{
 "cells": [
  {
   "cell_type": "markdown",
   "id": "2e0f7c6d",
   "metadata": {},
   "source": [
    "**Задача 1: Даны значения зарплат из выборки выпускников: \\\n",
    "100, 80, 75, 77, 89, 33, 45, 25, 65, 17, 30, 24, 57, 55, 70, 75, 65, 84, 90, 150. \\\n",
    "Посчитать (желательно без использования статистических методов наподобие std, var, mean) среднее арифметическое, среднее квадратичное отклонение, смещенную и несмещенную оценки дисперсий для данной выборки.**"
   ]
  },
  {
   "cell_type": "markdown",
   "id": "79baabb3",
   "metadata": {},
   "source": [
    "Дан некий список значений **lst**"
   ]
  },
  {
   "cell_type": "code",
   "execution_count": 3,
   "id": "2857c292",
   "metadata": {},
   "outputs": [],
   "source": [
    "import numpy as np\n",
    "import math\n",
    "\n",
    "lst = [100, 80, 75, 77, 89, 33, 45, 25, 65, 17, 30, 24, 57, 55, 70, 75, 65, 84, 90, 150]"
   ]
  },
  {
   "cell_type": "markdown",
   "id": "63674556",
   "metadata": {},
   "source": [
    "Находим среднее арифметическое:"
   ]
  },
  {
   "cell_type": "code",
   "execution_count": 4,
   "id": "85fe4bb6",
   "metadata": {},
   "outputs": [
    {
     "name": "stdout",
     "output_type": "stream",
     "text": [
      "Среднее арифметическое равно: 65.3\n"
     ]
    }
   ],
   "source": [
    "mean = sum(lst) / len(lst)\n",
    "print(f'Среднее арифметическое равно: {mean}')"
   ]
  },
  {
   "cell_type": "markdown",
   "id": "c1e7dced",
   "metadata": {},
   "source": [
    "Для вычисления медианы будем использовать функцию **find_mediana**, которая на вход принимает список, а возвращает значение медианы.\\\n",
    "Внутри функции входной массив сортируем и проверяем условие четности кол-ва элементов списка. Если число элементов нечетное, то медиана соответсвует значению центрального элемента списка, в противном случае берeтся два значения, и находится их среднее арифметическое"
   ]
  },
  {
   "cell_type": "code",
   "execution_count": 5,
   "id": "409dc59b",
   "metadata": {},
   "outputs": [],
   "source": [
    "def find_mediana(array):\n",
    "    array.sort() \n",
    "    if len(array)%2==1:\n",
    "        mediana = array[len(array)//2]\n",
    "    else:\n",
    "        mediana = (array[(len(array)-1)//2] + array[(len(array))//2]) / 2\n",
    "    return mediana  "
   ]
  },
  {
   "cell_type": "code",
   "execution_count": 6,
   "id": "f7f28d42",
   "metadata": {},
   "outputs": [
    {
     "name": "stdout",
     "output_type": "stream",
     "text": [
      "Медиана равна: 67.5\n"
     ]
    }
   ],
   "source": [
    "print(f'Медиана равна: {find_mediana(lst)}')"
   ]
  },
  {
   "cell_type": "markdown",
   "id": "77bbd5a9",
   "metadata": {},
   "source": [
    "Дальше будем вычислять смещенную дисперсию и ее стандартное отклонение. \\\n",
    "Для этого применим функцию **biased_disp**, которая на вход принимает список и медиану, а возвращает значение дисперсии. \\\n",
    "Смещенная дисперсия это отношение суммы разностей квадратов каджого значения и медианы к числу элементов."
   ]
  },
  {
   "cell_type": "code",
   "execution_count": 7,
   "id": "fdf14248",
   "metadata": {},
   "outputs": [],
   "source": [
    "def biased_disp(array, mean):\n",
    "    array.sort()\n",
    "    sum = 0\n",
    "    for i in range(len(array)):\n",
    "        sum += (array[i]-mean)**2\n",
    "    return sum/len(array)"
   ]
  },
  {
   "cell_type": "code",
   "execution_count": 8,
   "id": "cc50e48a",
   "metadata": {},
   "outputs": [
    {
     "name": "stdout",
     "output_type": "stream",
     "text": [
      "Смещенная дисперсия равна:  950.11\n"
     ]
    }
   ],
   "source": [
    "print(f'Смещенная дисперсия равна: {biased_disp(lst,mean): .2f}')"
   ]
  },
  {
   "cell_type": "markdown",
   "id": "d12ccba9",
   "metadata": {},
   "source": [
    "Стандарное отклонение - это квадратный корень из дисперсии"
   ]
  },
  {
   "cell_type": "code",
   "execution_count": 10,
   "id": "f9ee8ccd",
   "metadata": {},
   "outputs": [
    {
     "name": "stdout",
     "output_type": "stream",
     "text": [
      "Стандартное отклонение равно:  30.82\n"
     ]
    }
   ],
   "source": [
    "print(f'Стандартное отклонение равно: {math.sqrt(biased_disp(lst,mean)): .2f}')"
   ]
  },
  {
   "cell_type": "markdown",
   "id": "8bf626e6",
   "metadata": {},
   "source": [
    "Теперь вычислим несмещенную дисперсию и ее стандартное отклонение. \\\n",
    "Используем функцию **unbiased_disp**"
   ]
  },
  {
   "cell_type": "code",
   "execution_count": 11,
   "id": "62f83fb3",
   "metadata": {},
   "outputs": [],
   "source": [
    "def unbiased_disp(array, mean):\n",
    "    array.sort()\n",
    "    sum = 0\n",
    "    for i in range(len(array)):\n",
    "        sum += (array[i]-mean)**2\n",
    "    return sum/(len(array)-1)"
   ]
  },
  {
   "cell_type": "code",
   "execution_count": 12,
   "id": "9ef7cabc",
   "metadata": {},
   "outputs": [
    {
     "name": "stdout",
     "output_type": "stream",
     "text": [
      "Несмещенная дисперсия равна:  1000.12\n",
      "\n",
      "Стандартное отклонение равно:  31.62\n"
     ]
    }
   ],
   "source": [
    "print(f'Несмещенная дисперсия равна: {unbiased_disp(lst,mean): .2f}\\n')\n",
    "print(f'Стандартное отклонение равно: {math.sqrt(unbiased_disp(lst,mean)): .2f}')"
   ]
  },
  {
   "cell_type": "markdown",
   "id": "c4c2fc19",
   "metadata": {},
   "source": [
    "Ответ:\n",
    "- Среднее арифметическое равно: 65.3\n",
    "- Медиана равна: 67,5\n",
    "- Смещенная дисперсия равна: 950.11 и ее стандартное отклонение равно:  30.82\n",
    "- Несмещенная дисперсия равна:  1000.12 и ее стандартное отклонение равно:  31.62"
   ]
  },
  {
   "cell_type": "markdown",
   "id": "4746db60",
   "metadata": {},
   "source": [
    "Для вычисления всех этих значений в библиотеке **numpy** имеются готовые функции"
   ]
  },
  {
   "cell_type": "code",
   "execution_count": 13,
   "id": "76d997cf",
   "metadata": {},
   "outputs": [
    {
     "name": "stdout",
     "output_type": "stream",
     "text": [
      "Среднее арифметическое: 65.3\n",
      "Медиана: 67.5\n",
      "Смещенная дисперсия: 950.1099999999999 и ее стандартное отклонение: 30.823854398825592\n",
      "Несмещенная дисперсия: 1000.115789473684 и ее стандартное отклонение: 31.62460734101981\n"
     ]
    }
   ],
   "source": [
    "print(f'Среднее арифметическое: {np.mean(lst)}')\n",
    "print(f'Медиана: {np.median(lst)}')\n",
    "print(f'Смещенная дисперсия: {np.var(lst)} и ее стандартное отклонение: {np.std(lst)}')\n",
    "print(f'Несмещенная дисперсия: {np.var(lst,ddof=1)} и ее стандартное отклонение: {np.std(lst,ddof=1)}')"
   ]
  },
  {
   "cell_type": "code",
   "execution_count": null,
   "id": "aaab6419",
   "metadata": {},
   "outputs": [],
   "source": []
  }
 ],
 "metadata": {
  "kernelspec": {
   "display_name": "Python 3 (ipykernel)",
   "language": "python",
   "name": "python3"
  },
  "language_info": {
   "codemirror_mode": {
    "name": "ipython",
    "version": 3
   },
   "file_extension": ".py",
   "mimetype": "text/x-python",
   "name": "python",
   "nbconvert_exporter": "python",
   "pygments_lexer": "ipython3",
   "version": "3.9.13"
  }
 },
 "nbformat": 4,
 "nbformat_minor": 5
}
