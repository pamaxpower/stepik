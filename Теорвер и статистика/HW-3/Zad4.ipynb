{
 "cells": [
  {
   "cell_type": "markdown",
   "id": "85ea312a",
   "metadata": {},
   "source": [
    "**Задача 4.\\\n",
    "В университет на факультеты A и B поступило равное количество студентов, а на факультет C студентов поступило столько же, сколько на A и B вместе. Вероятность того, что студент факультета A сдаст первую сессию, равна 0.8. Для студента факультета B эта вероятность равна 0.7, а для студента факультета C - 0.9. Студент сдал первую сессию. \\\n",
    "Какова вероятность, что он учится: \\\n",
    "a) на факультете A \\\n",
    "б) на факультете B \\\n",
    "в) на факультете C?**"
   ]
  },
  {
   "cell_type": "markdown",
   "id": "9d7c09c4",
   "metadata": {},
   "source": [
    "**Решение:**\\\n",
    "Для решения этой задачи используем формулу Байеса: \\\n",
    "**P(S/E) = P(E/S) * P(S) / P(E)**, где \\\n",
    "S - студенты факультетов\n",
    "E - событие, что сессия сдана\n",
    "\n",
    "\n",
    "Пусть *n* - это кол-во студентов на факультете A, тогда на факультете B тоже учится *n* студентов, а на факультете C - *2n* студентов. Все студенты сдавали сессию, значит мы можем вычислить вероятность для каждого факультета:\n",
    "1/n + 1/n + 1/(2 * n) = 1, отсюда <br>\n",
    "**P(S<sub>A</sub>) = 0.25, P(S<sub>B</sub>) = 0.25, P(S<sub>C</sub>) = 0.5**\n",
    "\n",
    "Найдем полную вероятность наступления события E, зная что P(ES<sub>A</sub>) = 0.8, P(ES<sub>A</sub>) = 0.7, P(ES<sub>A</sub>) = 0.9:\\\n",
    "**P(E) = P(ES<sub>A</sub>) * P(S<sub>A</sub>) + P(ES<sub>B</sub>) * P(S<sub>B</sub>) + P(ES<sub>C</sub>) * P(S<sub>C</sub>)**\n"
   ]
  },
  {
   "cell_type": "code",
   "execution_count": 3,
   "id": "e1c95f97",
   "metadata": {},
   "outputs": [
    {
     "name": "stdout",
     "output_type": "stream",
     "text": [
      "Полная вероятность наступления события E равна:  0.8250\n"
     ]
    }
   ],
   "source": [
    "PEsA = 0.8\n",
    "PEsB = 0.7\n",
    "PEsC = 0.9\n",
    "PsA = PsB = 0.25\n",
    "PsC = 0.5\n",
    "PE = PEsA * PsA + PEsB * PsB + PEsC * PsC\n",
    "print(f'Полная вероятность наступления события E равна: {PE: .4f}')\n"
   ]
  },
  {
   "cell_type": "markdown",
   "id": "daf6fc1b",
   "metadata": {},
   "source": [
    "a) Рассчитаем вероятность, что студент учится на факультете A:\\\n",
    "**P(S<sub>A</sub>E) = P(ES<sub>A</sub>) * P(S<sub>A</sub>) / P(E)**"
   ]
  },
  {
   "cell_type": "code",
   "execution_count": 12,
   "id": "4157fccf",
   "metadata": {},
   "outputs": [
    {
     "name": "stdout",
     "output_type": "stream",
     "text": [
      "Вероятность факультета A равна:  0.2424\n"
     ]
    }
   ],
   "source": [
    "PsAE = PEsA * PsA / PE\n",
    "print(f'Вероятность факультета A равна: {PsAE: .4f}')"
   ]
  },
  {
   "cell_type": "markdown",
   "id": "8ab7134f",
   "metadata": {},
   "source": [
    "б) Рассчитаем вероятность, что студент учится на факультете B:\\\n",
    "**P(S<sub>B</sub>E) = P(ES<sub>B</sub>) * P(S<sub>B</sub>) / P(E)**"
   ]
  },
  {
   "cell_type": "code",
   "execution_count": 13,
   "id": "7feff728",
   "metadata": {},
   "outputs": [
    {
     "name": "stdout",
     "output_type": "stream",
     "text": [
      "Вероятность факультета A равна:  0.2121\n"
     ]
    }
   ],
   "source": [
    "PsBE = PEsB * PsB / PE\n",
    "print(f'Вероятность факультета A равна: {PsBE: .4f}')"
   ]
  },
  {
   "cell_type": "markdown",
   "id": "421c3185",
   "metadata": {},
   "source": [
    "в) Рассчитаем вероятность, что студент учится на факультете C:\\\n",
    "**P(S<sub>B</sub>E) = P(ES<sub>B</sub>) * P(S<sub>B</sub>) / P(E)**"
   ]
  },
  {
   "cell_type": "code",
   "execution_count": 14,
   "id": "a641afcf",
   "metadata": {},
   "outputs": [
    {
     "name": "stdout",
     "output_type": "stream",
     "text": [
      "Вероятность факультета A равна:  0.5455\n"
     ]
    }
   ],
   "source": [
    "PsCE = PEsC * PsC / PE\n",
    "print(f'Вероятность факультета A равна: {PsCE: .4f}')"
   ]
  },
  {
   "cell_type": "markdown",
   "id": "47d80b03",
   "metadata": {},
   "source": [
    "Ответ:\\\n",
    "Вероятность того, что студент учится на:\\\n",
    "- факультете A = 24%\n",
    "- факультете B = 21%\n",
    "- факультете C = 55%\n"
   ]
  },
  {
   "cell_type": "code",
   "execution_count": null,
   "id": "5966505c",
   "metadata": {},
   "outputs": [],
   "source": []
  }
 ],
 "metadata": {
  "kernelspec": {
   "display_name": "Python 3 (ipykernel)",
   "language": "python",
   "name": "python3"
  },
  "language_info": {
   "codemirror_mode": {
    "name": "ipython",
    "version": 3
   },
   "file_extension": ".py",
   "mimetype": "text/x-python",
   "name": "python",
   "nbconvert_exporter": "python",
   "pygments_lexer": "ipython3",
   "version": "3.9.13"
  }
 },
 "nbformat": 4,
 "nbformat_minor": 5
}
