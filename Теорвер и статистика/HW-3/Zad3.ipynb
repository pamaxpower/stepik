{
 "cells": [
  {
   "cell_type": "markdown",
   "id": "94a805e6",
   "metadata": {},
   "source": [
    "**Задача 3. На соревновании по биатлону один из трех спортсменов стреляет и попадает в мишень. Вероятность попадания для первого спортсмена равна 0.9, для второго — 0.8, для третьего — 0.6. Найти вероятность того, что выстрел произведен:** \n",
    "- **a)первым спортсменом**\n",
    "- **б)вторым спортсменом**\n",
    "- **в)третьим спортсменом**"
   ]
  },
  {
   "cell_type": "markdown",
   "id": "4723eb62",
   "metadata": {},
   "source": [
    "**Решение:**\\\n",
    "По условию задачи понятно, необходимо определить вероятность события при условии, что другое событие уже закончилось (выстрел в мишень уже произведем). Для нахождения вероятности используем формулу Байеса:\\\n",
    "**P(A/B) = P(B/A) * P(A) / P(B)**, где\\\n",
    "событие **A** уже завершилось, выстрел сделан и сделал его один из трех спортсменов, поэтому **P<sub>1</sub> + P<sub>2</sub> + P<sub>3</sub> = 1/3**\\\n",
    "P(A/B) - вероятность, что какой-либо спортсмен произвел выстрел\\\n",
    "P(B/A) - вероятность попадания каждого спортсмена\\\n",
    "P(B) - полная вероятность события A - вычисляется по формуле:\\\n",
    "**P(B) - P(B/A<sub>1</sub>) * P(A<sub>1</sub>) + P(B/A<sub>2</sub>) * P(A<sub>2</sub>) + P(B/A<sub>2</sub>) * P(A<sub>2</sub>)**"
   ]
  },
  {
   "cell_type": "code",
   "execution_count": 12,
   "id": "12f72369",
   "metadata": {},
   "outputs": [
    {
     "name": "stdout",
     "output_type": "stream",
     "text": [
      "Полная вероятность наступления события A равна:  0.7667\n"
     ]
    }
   ],
   "source": [
    "PBa1 = 0.9\n",
    "PBa2 = 0.8\n",
    "PBa3 = 0.6\n",
    "PB = 0.9 * 1/3 + 0.8 * 1/3 + 0.6 * 1/3\n",
    "print(f'Полная вероятность наступления события A равна: {PA: .4f}')"
   ]
  },
  {
   "cell_type": "markdown",
   "id": "0e445a54",
   "metadata": {},
   "source": [
    "a) Вычислим вероятность, что выстрел произвел первый спортсмен:"
   ]
  },
  {
   "cell_type": "code",
   "execution_count": 13,
   "id": "15506572",
   "metadata": {},
   "outputs": [
    {
     "name": "stdout",
     "output_type": "stream",
     "text": [
      "Вероятность выстрела первого спортсмена:  0.3913\n"
     ]
    }
   ],
   "source": [
    "p1 = PBa1 * 1/3 / PB\n",
    "print(f'Вероятность выстрела первого спортсмена: {p1: .4f}')"
   ]
  },
  {
   "cell_type": "markdown",
   "id": "172fa999",
   "metadata": {},
   "source": [
    "б) Вычислим вероятность, что выстрел произвел второй спортсмен:"
   ]
  },
  {
   "cell_type": "code",
   "execution_count": 14,
   "id": "603f355b",
   "metadata": {},
   "outputs": [
    {
     "name": "stdout",
     "output_type": "stream",
     "text": [
      "Вероятность выстрела первого спортсмена:  0.3478\n"
     ]
    }
   ],
   "source": [
    "p2 = PBa2 * 1/3 / PB\n",
    "print(f'Вероятность выстрела первого спортсмена: {p2: .4f}')"
   ]
  },
  {
   "cell_type": "markdown",
   "id": "24b28225",
   "metadata": {},
   "source": [
    "в) Вычислим вероятность, что выстрел произвел третий спортсмен:"
   ]
  },
  {
   "cell_type": "code",
   "execution_count": 15,
   "id": "9bf372f6",
   "metadata": {},
   "outputs": [
    {
     "name": "stdout",
     "output_type": "stream",
     "text": [
      "Вероятность выстрела первого спортсмена:  0.2609\n"
     ]
    }
   ],
   "source": [
    "p3 = PBa3 * 1/3 / PB\n",
    "print(f'Вероятность выстрела первого спортсмена: {p3: .4f}')"
   ]
  },
  {
   "cell_type": "markdown",
   "id": "7f0f4564",
   "metadata": {},
   "source": [
    "Ответ:\\\n",
    "    Вероятность того, что выстрел произвел:\\\n",
    "        - первый спортсмен = 39% \\\n",
    "        - второй спортсмен = 35% \\\n",
    "        - третий спортсмен = 26%"
   ]
  },
  {
   "cell_type": "code",
   "execution_count": null,
   "id": "e889589d",
   "metadata": {},
   "outputs": [],
   "source": []
  }
 ],
 "metadata": {
  "kernelspec": {
   "display_name": "Python 3 (ipykernel)",
   "language": "python",
   "name": "python3"
  },
  "language_info": {
   "codemirror_mode": {
    "name": "ipython",
    "version": 3
   },
   "file_extension": ".py",
   "mimetype": "text/x-python",
   "name": "python",
   "nbconvert_exporter": "python",
   "pygments_lexer": "ipython3",
   "version": "3.9.13"
  }
 },
 "nbformat": 4,
 "nbformat_minor": 5
}
